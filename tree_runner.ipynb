{
 "cells": [
  {
   "cell_type": "code",
   "execution_count": null,
   "metadata": {},
   "outputs": [],
   "source": [
    "import hierarchy_dictionary as hd\n",
    "import numpy as np\n",
    "import data_util as du\n",
    "import network_tree as nt"
   ]
  },
  {
   "cell_type": "code",
   "execution_count": null,
   "metadata": {},
   "outputs": [],
   "source": [
    "'''\n",
    "kmer_to_GO_dict = np.load('kmer_to_GO_dict.pkl', allow_pickle=True)\n",
    "hierarchy_dict = du.trim_hierarchy(du.split_labels_and_get_hierarchy(kmer_to_GO_dict))\n",
    "\n",
    "import pickle as pkl\n",
    "file_name = \"hierarchy_dict.pkl\"\n",
    "fileObject = open(file_name, 'wb')\n",
    "pkl.dump(hierarchy_dict, fileObject)\n",
    "fileObject.close()\n",
    "'''\n",
    "# load dictionaries\n",
    "kmer_to_GO_dict = np.load('kmer_to_GO_dict.pkl', allow_pickle=True)\n",
    "hierarchy_dict = np.load('hierarchy_dict.pkl', allow_pickle=True)"
   ]
  },
  {
   "cell_type": "code",
   "execution_count": null,
   "metadata": {},
   "outputs": [],
   "source": [
    "neural_tree = nt.neural_tree_train(hierarchy_dict['features'], np.asarray(hierarchy_dict['labels']))"
   ]
  },
  {
   "cell_type": "code",
   "execution_count": null,
   "metadata": {},
   "outputs": [],
   "source": [
    "du.make_prediction_file(kmer_to_GO_dict, neural_tree)"
   ]
  }
 ],
 "metadata": {
  "interpreter": {
   "hash": "f96efbd20990c9b87154ff1e04974328ba5cd93cb6fdf3bf0ba6a60073362e50"
  },
  "kernelspec": {
   "display_name": "Python 3.9.7 64-bit",
   "language": "python",
   "name": "python3"
  },
  "language_info": {
   "codemirror_mode": {
    "name": "ipython",
    "version": 3
   },
   "file_extension": ".py",
   "mimetype": "text/x-python",
   "name": "python",
   "nbconvert_exporter": "python",
   "pygments_lexer": "ipython3",
   "version": "3.9.7"
  },
  "orig_nbformat": 4
 },
 "nbformat": 4,
 "nbformat_minor": 2
}

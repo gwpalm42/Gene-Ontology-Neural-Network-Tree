{
 "cells": [
  {
   "cell_type": "code",
   "execution_count": null,
   "metadata": {},
   "outputs": [],
   "source": [
    "import data_util as du\n",
    "import numpy as np\n",
    "import pickle as pkl\n",
    "import neural_network as NN"
   ]
  },
  {
   "cell_type": "code",
   "execution_count": null,
   "metadata": {},
   "outputs": [],
   "source": [
    "'''\n",
    "################################\n",
    "TO GENERATE THE KMER PICKLE FILE:\n",
    "\n",
    "kmer_dict = du.create_kmer_dict('sequences.txt')\n",
    "\n",
    "file_name = \"kmer_dict.pkl\"\n",
    "fileObject = open(file_name, 'wb')\n",
    "pkl.dump(kmer_dict, fileObject)\n",
    "fileObject.close()\n",
    "\n",
    "WARNING: LONG RUNTIME (30-40m)\n",
    "################################\n",
    "TO GENERATE THE KMER_TO_GO DICTIONARY: \n",
    "\n",
    "kmer_dict = np.load('kmer_dict.pkl', allow_pickle=True)\n",
    "GO_dict = du.txt_to_dict('GOterms.txt')\n",
    "\n",
    "kmer_to_GO_dict = du.combine_protein_dicts(kmer_dict, GO_dict)\n",
    "\n",
    "file_name = \"kmer_to_GO_dict.pkl\"\n",
    "fileObject = open(file_name, 'wb')\n",
    "pkl.dump(kmer_dict, fileObject)\n",
    "fileObject.close()\n",
    "################################\n",
    "GENERATE SIMPLIFIED LABELS:\n",
    "\n",
    "standardized_labels_dict = du.create_class_label_dict(kmer_to_GO_dict)\n",
    "standardized_labels_dict = du.shuffle_and_normalize(standardized_labels_dict)\n",
    "standardized_labels_dict['readme'] = \"Feature and class are correlated by index. You can look up the GO term of a class by using dict['GO_terms'][class]\"\n",
    "print(standardized_labels_dict)\n",
    "\n",
    "file_name = \"kmer_to_standardclass.pkl\"\n",
    "fileObject = open(file_name, 'wb')\n",
    "pkl.dump(standardized_labels_dict, fileObject)\n",
    "fileObject.close()\n",
    "################################\n",
    "TRAINING FOR SIMPLE LABELS:\n",
    "\n",
    "fl_dict = np.load('kmer_to_standardclass.pkl', allow_pickle=True)\n",
    "features = fl_dict['features']\n",
    "labels = fl_dict['labels']\n",
    "train_data, test_data = du.split_data(features, 6)\n",
    "train_labels, test_labels = du.split_data(labels, 6)\n",
    "\n",
    "model = NN.train_NN(train_data, train_labels, len(fl_dict['GO_terms']))\n",
    "\n",
    "predictions = model.predict(test_data)\n",
    "predictions = np.argmax(predictions, axis=-1)\n",
    "print(predictions)\n",
    "print(test_labels)\n",
    "accuracy = np.mean(predictions == test_labels)\n",
    "print(accuracy)\n",
    "################################\n",
    "'''\n",
    "kmer_to_GO_dict = np.load('kmer_to_GO_dict.pkl', allow_pickle=True)\n",
    "multiclass_labels = kmer_to_GO_dict['labels']\n",
    "test_data = kmer_to_GO_dict['features']"
   ]
  },
  {
   "cell_type": "code",
   "execution_count": null,
   "metadata": {},
   "outputs": [],
   "source": [
    "split_labels_dict = du.std_and_split_list_labels(kmer_to_GO_dict)"
   ]
  },
  {
   "cell_type": "code",
   "execution_count": null,
   "metadata": {},
   "outputs": [],
   "source": [
    "# get params\n",
    "features = split_labels_dict['features']\n",
    "labels = split_labels_dict['labels']\n",
    "label_count = du.label_count(multiclass_labels)\n",
    "\n",
    "# split data? \n",
    "\n",
    "# train threshold network\n",
    "# threshold_network = NN.ThresholdNetwork()\n",
    "# threshold_network.train(features, test_data, labels, len(split_labels_dict['GO_terms']), label_count)\n",
    "\n",
    "# train single output network\n",
    "neural_network = NN.train_NN(features, labels, len(split_labels_dict['GO_terms']), epoch_num=5)"
   ]
  },
  {
   "cell_type": "code",
   "execution_count": null,
   "metadata": {},
   "outputs": [],
   "source": [
    "predictions = neural_network.predict(test_data)\n",
    "predictions = np.argmax(predictions, axis=-1)"
   ]
  },
  {
   "cell_type": "code",
   "execution_count": null,
   "metadata": {},
   "outputs": [],
   "source": [
    "#du.score_multiclass(predictions, multiclass_labels, split_labels_dict['GO_terms'])\n",
    "print(du.score_1output_against_multiclass(predictions, multiclass_labels, split_labels_dict['GO_terms']))"
   ]
  }
 ],
 "metadata": {
  "interpreter": {
   "hash": "f96efbd20990c9b87154ff1e04974328ba5cd93cb6fdf3bf0ba6a60073362e50"
  },
  "kernelspec": {
   "display_name": "Python 3.9.7 64-bit",
   "name": "python3"
  },
  "language_info": {
   "codemirror_mode": {
    "name": "ipython",
    "version": 3
   },
   "file_extension": ".py",
   "mimetype": "text/x-python",
   "name": "python",
   "nbconvert_exporter": "python",
   "pygments_lexer": "ipython3",
   "version": "3.9.7"
  },
  "orig_nbformat": 4
 },
 "nbformat": 4,
 "nbformat_minor": 2
}
